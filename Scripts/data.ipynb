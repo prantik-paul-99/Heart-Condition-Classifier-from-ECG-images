{
 "cells": [
  {
   "cell_type": "code",
   "execution_count": null,
   "metadata": {},
   "outputs": [],
   "source": [
    "import numpy as np\n",
    "import pandas as pd\n",
    "from tqdm import tqdm"
   ]
  },
  {
   "cell_type": "code",
   "execution_count": null,
   "metadata": {},
   "outputs": [],
   "source": [
    "def get_mini_batch(input_X, batch_size):\n",
    "    for i in range(0, len(input_X), batch_size):\n",
    "        yield input_X[i: i + batch_size]"
   ]
  },
  {
   "cell_type": "code",
   "execution_count": null,
   "metadata": {},
   "outputs": [],
   "source": [
    "def load_images_from_npy():\n",
    "    covid_images = np.load('./covid.npy', allow_pickle=True)\n",
    "    hb_images = np.load('./hb.npy', allow_pickle=True)\n",
    "    mi_images = np.load('./mi.npy', allow_pickle=True)\n",
    "    normal_images = np.load('./normal.npy', allow_pickle=True)\n",
    "    pmi_images = np.load('./pmi.npy', allow_pickle=True)\n",
    "\n",
    "    # covid - 0\n",
    "    # hb - 1\n",
    "    # mi - 2\n",
    "    # normal - 3\n",
    "    #pmi - 4\n",
    "\n",
    "    # fill labels 0 for covid, 1 for hb, 2 for mi, 3 for normal, 4 for pmi\n",
    "    labels = [0] * len(covid_images) // 13\n",
    "    labels.extend([1] * (len(hb_images) // 13))\n",
    "    labels.extend([2] * (len(mi_images) // 13))\n",
    "    labels.extend([3] * (len(normal_images) // 13))\n",
    "    labels.extend([4] * (len(pmi_images) // 13))\n",
    "\n",
    "    images = list(covid_images)\n",
    "\n",
    "    for image in hb_images:\n",
    "        images.append(hb_images)\n",
    "\n",
    "    for image in mi_images:\n",
    "        images.append(mi_images)\n",
    "\n",
    "    for image in normal_images:\n",
    "        images.append(normal_images)\n",
    "\n",
    "    for image in pmi_images:\n",
    "        images.append(pmi_images)\n",
    "\n",
    "    images = np.array(images)\n",
    "    labels = np.array(labels)\n",
    "\n",
    "    return images  \n",
    "\n",
    "\n",
    "\n",
    "\n",
    "def combine_leads_of_image(data):\n",
    "  \n",
    "  # store each 13 lead images in a list of 13*28*28 arrays\n",
    "    images = []\n",
    "\n",
    "    for X in get_mini_batch(data, 13):\n",
    "        images.append(X)\n",
    "\n",
    "    return images\n",
    "\n",
    "\n",
    "\n",
    "def train_val_split(train_size=0.9, shuffle=True):\n",
    "  pass"
   ]
  },
  {
   "cell_type": "code",
   "execution_count": null,
   "metadata": {},
   "outputs": [],
   "source": [
    "images = load_images_from_npy()\n",
    "images.shape"
   ]
  }
 ],
 "metadata": {
  "language_info": {
   "name": "python"
  },
  "orig_nbformat": 4
 },
 "nbformat": 4,
 "nbformat_minor": 2
}
